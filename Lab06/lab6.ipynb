{
 "cells": [
  {
   "cell_type": "markdown",
   "metadata": {},
   "source": [
    "# Jackknife"
   ]
  },
  {
   "cell_type": "code",
   "execution_count": 5,
   "metadata": {
    "collapsed": true
   },
   "outputs": [],
   "source": [
    "import numpy as np"
   ]
  },
  {
   "cell_type": "code",
   "execution_count": 22,
   "metadata": {},
   "outputs": [
    {
     "name": "stdout",
     "output_type": "stream",
     "text": [
      "5.5\n",
      "('variance', 20.25)\n"
     ]
    }
   ],
   "source": [
    "def jackknife(sample, fun):\n",
    "    partial_samples = get_partial_samples(sample)\n",
    "    pseudo_values = get_pseudo_values(sample, partial_samples, fun)\n",
    "#     print(partial_samples)\n",
    "#     print(pseudo_values)\n",
    "    variance = np.var(pseudo_values)\n",
    "    std_dev = variance**0.5\n",
    "    print(\"variance\", variance)\n",
    "    return\n",
    "\n",
    "def get_partial_samples(sample):\n",
    "    N = len(sample)\n",
    "    partial_samples = np.zeros((N, N-1))\n",
    "    for i in range(0, N):\n",
    "        partial_samples[i] = np.concatenate((sample[:i], sample[i+1:]))\n",
    "    return partial_samples\n",
    "\n",
    "def get_pseudo_values(sample, partial, fun):\n",
    "    N = len(sample)\n",
    "    pseudo_values = np.zeros(N)\n",
    "    sam_fun = fun(sample)\n",
    "    for i in range(0, N):\n",
    "        pseudo_values[i] = N * sam_fun - (N-1) * fun(partial[i])\n",
    "    return pseudo_values\n",
    "\n",
    "def get_mean(sample):\n",
    "    return sample.mean()\n",
    "\n",
    "def get_median(sample):\n",
    "    return np.median(sample)\n",
    "    \n",
    "sample = np.array([1, 2, 3, 4, 5, 6, 7, 8, 9, 10])\n",
    "# sample = np.array([1, 2, 3, 4])\n",
    "\n",
    "jackknife(sample, get_median)"
   ]
  }
 ],
 "metadata": {
  "kernelspec": {
   "display_name": "Python 2",
   "language": "python",
   "name": "python2"
  },
  "language_info": {
   "codemirror_mode": {
    "name": "ipython",
    "version": 2
   },
   "file_extension": ".py",
   "mimetype": "text/x-python",
   "name": "python",
   "nbconvert_exporter": "python",
   "pygments_lexer": "ipython2",
   "version": "2.7.13"
  }
 },
 "nbformat": 4,
 "nbformat_minor": 2
}
